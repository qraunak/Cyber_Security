{
 "cells": [
  {
   "cell_type": "code",
   "execution_count": 1,
   "id": "8cda73f9-6414-4a3b-94d3-889d29c6e63b",
   "metadata": {},
   "outputs": [],
   "source": [
    "import subprocess\n",
    "import threading\n",
    "import sys"
   ]
  },
  {
   "cell_type": "code",
   "execution_count": null,
   "id": "f6a8907f-130a-40d2-94b7-47a4098becad",
   "metadata": {},
   "outputs": [
    {
     "name": "stdout",
     "output_type": "stream",
     "text": [
      "I am a bot who plays tic-tac-toe using advanced randomized algorithms. Can you beat me?\n",
      "\n",
      "\n",
      "\n",
      "Game [1/250]\n",
      "\n",
      "_ _ _ \n",
      "\n",
      "_ _ _ \n",
      "\n",
      "_ _ _ \n",
      "\n",
      "Enter the block you want to mark as row,column. Eg: 0,2\n",
      "\n"
     ]
    },
    {
     "name": "stdin",
     "output_type": "stream",
     "text": [
      " 1,2\n"
     ]
    },
    {
     "name": "stderr",
     "output_type": "stream",
     "text": [
      "Exception in thread Thread-6 (write_process):\n",
      "Traceback (most recent call last):\n",
      "  File \"/usr/lib/python3.10/threading.py\", line 1016, in _bootstrap_inner\n",
      "    self.run()\n",
      "  File \"/usr/lib/python3.10/threading.py\", line 953, in run\n",
      "    self._target(*self._args, **self._kwargs)\n",
      "  File \"/tmp/ipykernel_3439/3682409384.py\", line 26, in write_process\n",
      "BrokenPipeError: [Errno 32] Broken pipe\n"
     ]
    }
   ],
   "source": [
    "'''\n",
    "Game solver code\n",
    "Run game and analysis output \n",
    "if output yields result then game ends otherwis run game again with input according to previous output\n",
    "'''\n",
    "\n",
    "\n",
    "process = subprocess.Popen(\n",
    "    ['./ttt'], \n",
    "    stdin=subprocess.PIPE,\n",
    "    stdout=subprocess.PIPE ,stderr=subprocess.PIPE,\n",
    "    text = True\n",
    ")\n",
    "\n",
    "def read_process(process, data): # read  data from process\n",
    "    while True:\n",
    "        data[0] = process.stdout.readline()\n",
    "        print(data[0])\n",
    "        \n",
    "    # return data\n",
    "\n",
    "def write_process(process, data): # provide a data to process\n",
    "    while True:\n",
    "        # print(data[0])\n",
    "        # # sys.stdout.flush()\n",
    "        x = input()\n",
    "        process.stdin.write(x+'\\n')\n",
    "        process.stdin.flush()\n",
    "\n",
    "list_data = ['']\n",
    "thread_read = threading.Thread(target = read_process, args= [process, list_data])\n",
    "thread_write = threading.Thread(target= write_process, args=[process, list_data])\n",
    "thread_read.start()\n",
    "thread_write.start()\n",
    "\n",
    "thread_read.join()\n",
    "thread_write.join()\n"
   ]
  },
  {
   "cell_type": "code",
   "execution_count": 12,
   "id": "9ce41c95-49f9-4fa6-8c04-3fa1d60c4938",
   "metadata": {},
   "outputs": [
    {
     "data": {
      "text/plain": [
       "'dfd'"
      ]
     },
     "execution_count": 12,
     "metadata": {},
     "output_type": "execute_result"
    }
   ],
   "source": [
    "t"
   ]
  },
  {
   "cell_type": "code",
   "execution_count": null,
   "id": "443bd086-b532-41b7-8d3e-345bbbef871c",
   "metadata": {},
   "outputs": [],
   "source": []
  }
 ],
 "metadata": {
  "kernelspec": {
   "display_name": "Python 3 (ipykernel)",
   "language": "python",
   "name": "python3"
  },
  "language_info": {
   "codemirror_mode": {
    "name": "ipython",
    "version": 3
   },
   "file_extension": ".py",
   "mimetype": "text/x-python",
   "name": "python",
   "nbconvert_exporter": "python",
   "pygments_lexer": "ipython3",
   "version": "3.10.6"
  }
 },
 "nbformat": 4,
 "nbformat_minor": 5
}
