{
 "cells": [
  {
   "cell_type": "code",
   "execution_count": 1,
   "id": "1b24af02-1bed-4cd5-9ebf-dce115fecb8b",
   "metadata": {},
   "outputs": [
    {
     "name": "stdout",
     "output_type": "stream",
     "text": [
      " pr377y_5u23_7h15_15_n07_w0rd13"
     ]
    }
   ],
   "source": [
    "# Path to the bruteforcer program and the wordlist file\n",
    "import subprocess\n",
    "import re\n",
    "\n",
    "\n",
    "def execute_binary_with_password(password, command):\n",
    "    result = subprocess.run(\n",
    "            [command],\n",
    "            input=password.encode(),\n",
    "            stdout=subprocess.PIPE,\n",
    "            stderr=subprocess.PIPE,\n",
    "            check=True,\n",
    "    )\n",
    "    return result.stdout.decode()\n",
    "    \n",
    "\n",
    "# alphanumeric = 'qwertyuioplkjhgfdsazxcvbnm_QWERTYUIOPLKJHGFDSAZXCVBNM1234567890'\n",
    "alphanumeric = '_'\n",
    "for i in range(10):\n",
    "    alphanumeric += str(i)\n",
    "    \n",
    "for i in range(26):\n",
    "    alphanumeric += chr(65+i)\n",
    "    alphanumeric += chr(97+i)\n",
    "\n",
    "command = './notwordle'\n",
    "\n",
    "pattern = r'(\\d+) / (\\d+) characters match'\n",
    "pattern = re.compile(pattern)\n",
    "total = 1\n",
    "counter = 0\n",
    "password = ''\n",
    "\n",
    "while counter < total:\n",
    "    for i in alphanumeric:\n",
    "        t_pass = password+i\n",
    "        res = execute_binary_with_password(t_pass, command)\n",
    "        re_match = pattern.search(res)    \n",
    "        total = int(re_match.group(2))\n",
    "        count = int(re_match.group(1))\n",
    "    \n",
    "        if count > counter:\n",
    "            counter = count\n",
    "            password = t_pass\n",
    "            print('\\r', password, end='')\n",
    "        \n",
    "# print(password)"
   ]
  },
  {
   "cell_type": "code",
   "execution_count": 10,
   "id": "206c9284-c30d-46af-bf4e-77ed142a701e",
   "metadata": {},
   "outputs": [
    {
     "data": {
      "text/plain": [
       "<re.Match object; span=(83, 106), match='1 / 30 characters match'>"
      ]
     },
     "execution_count": 10,
     "metadata": {},
     "output_type": "execute_result"
    }
   ],
   "source": [
    "pattern = r'(\\d+) / (\\d+) characters match'\n",
    "pattern = re.compile(pattern)\n",
    "dd = \"Enter your password (30 characters long, all characters are alphanumeric or '_') : 1 / 30 characters match\"\n",
    "pattern.search(dd)"
   ]
  },
  {
   "cell_type": "code",
   "execution_count": 5,
   "id": "ea514da0-ab5d-4835-a2d0-a2ce6bd12e1c",
   "metadata": {},
   "outputs": [
    {
     "data": {
      "text/plain": [
       "'_0123456789AaBbCcDdEeFfGgHhIiJjKkLlMmNnOoPpQqRrSsTtUuVvWwXxYyZz'"
      ]
     },
     "execution_count": 5,
     "metadata": {},
     "output_type": "execute_result"
    }
   ],
   "source": [
    "alphanumeric"
   ]
  },
  {
   "cell_type": "code",
   "execution_count": null,
   "id": "127c00de-60ae-4e0e-9adc-b4f7a527b9b6",
   "metadata": {},
   "outputs": [],
   "source": []
  }
 ],
 "metadata": {
  "kernelspec": {
   "display_name": "Python 3 (ipykernel)",
   "language": "python",
   "name": "python3"
  },
  "language_info": {
   "codemirror_mode": {
    "name": "ipython",
    "version": 3
   },
   "file_extension": ".py",
   "mimetype": "text/x-python",
   "name": "python",
   "nbconvert_exporter": "python",
   "pygments_lexer": "ipython3",
   "version": "3.10.6"
  }
 },
 "nbformat": 4,
 "nbformat_minor": 5
}
